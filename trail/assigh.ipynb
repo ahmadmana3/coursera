# this is trail
import pandas as pd
import numpy as np
print ('hello')
